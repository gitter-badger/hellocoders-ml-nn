{
 "cells": [
  {
   "cell_type": "markdown",
   "metadata": {},
   "source": [
    "# Theano Introduction\n",
    "---"
   ]
  },
  {
   "cell_type": "code",
   "execution_count": 14,
   "metadata": {
    "collapsed": false
   },
   "outputs": [],
   "source": [
    "import theano\n",
    "import theano.tensor as T\n",
    "import numpy as np\n",
    "\n",
    "# Symbolic expressions for basic tensor types\n",
    "X = T.scalar(name='X')\n",
    "Y = T.vector(name='Y')\n",
    "Z = T.matrix(name='Z')"
   ]
  },
  {
   "cell_type": "code",
   "execution_count": 15,
   "metadata": {
    "collapsed": false
   },
   "outputs": [],
   "source": [
    "# Symbolic expression to raise all the elements in y to y^x\n",
    "a = T.pow(Y, X)"
   ]
  },
  {
   "cell_type": "code",
   "execution_count": 16,
   "metadata": {
    "collapsed": false
   },
   "outputs": [],
   "source": [
    "# Theano function\n",
    "_pow = theano.function(inputs = [X, Y], outputs = a)"
   ]
  },
  {
   "cell_type": "code",
   "execution_count": 19,
   "metadata": {
    "collapsed": false
   },
   "outputs": [
    {
     "data": {
      "text/plain": [
       "array([  0.        ,   1.        ,   4.        ,   9.        ,\n",
       "        16.        ,  24.99999809,  35.99999619,  49.00000381,\n",
       "        64.        ,  81.        ], dtype=float32)"
      ]
     },
     "execution_count": 19,
     "metadata": {},
     "output_type": "execute_result"
    }
   ],
   "source": [
    "# Input numpy scalars and vectors as input to theano function\n",
    "x = np.float32(2)\n",
    "y = np.arange(10, dtype=np.float32)\n",
    "\n",
    "_pow(2, y)"
   ]
  },
  {
   "cell_type": "code",
   "execution_count": 35,
   "metadata": {
    "collapsed": false
   },
   "outputs": [],
   "source": [
    "# THEANO GRADIENTS\n",
    "\n",
    "# A numpy matrix to initialize theano shared variable\n",
    "W_init = np.random.uniform(low = -0.01, high = 0.01, size = (100, 100))\n",
    "W = theano.shared(W_init.astype(theano.config.floatX), name = 'W')\n",
    "\n",
    "# cost is a scalar value\n",
    "cost = T.sum(W * Z + Y)\n",
    "\n",
    "# Gradient(derivative) of cost w.r.t to W\n",
    "grad_w= theano.grad(cost, wrt = W)\n",
    "\n",
    "_grad = theano.function([Y, Z], grad_w)"
   ]
  },
  {
   "cell_type": "code",
   "execution_count": 44,
   "metadata": {
    "collapsed": false
   },
   "outputs": [
    {
     "data": {
      "text/plain": [
       "CudaNdarray([[ 0.03642797]\n",
       " [ 0.45691976]\n",
       " [ 0.35637721]\n",
       " [ 0.06340053]\n",
       " [ 0.19999719]\n",
       " [ 0.71057594]\n",
       " [ 0.47397625]\n",
       " [ 0.34220117]\n",
       " [ 0.298374  ]\n",
       " [ 0.09217871]])"
      ]
     },
     "execution_count": 44,
     "metadata": {},
     "output_type": "execute_result"
    }
   ],
   "source": [
    "z = np.random.uniform(low = 0, high = 1, size = (100, 1)).astype(np.float32)\n",
    "y = np.ones(100, dtype=np.float32)\n",
    "\n",
    "_grad(y, z)[:10]"
   ]
  }
 ],
 "metadata": {
  "kernelspec": {
   "display_name": "Python 2",
   "language": "python",
   "name": "python2"
  },
  "language_info": {
   "codemirror_mode": {
    "name": "ipython",
    "version": 2
   },
   "file_extension": ".py",
   "mimetype": "text/x-python",
   "name": "python",
   "nbconvert_exporter": "python",
   "pygments_lexer": "ipython2",
   "version": "2.7.11"
  }
 },
 "nbformat": 4,
 "nbformat_minor": 0
}
